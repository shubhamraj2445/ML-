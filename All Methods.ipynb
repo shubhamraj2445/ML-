{
 "cells": [
  {
   "cell_type": "code",
   "execution_count": 1,
   "id": "c4f4ae3d-9113-45bf-9063-2f265f520102",
   "metadata": {
    "tags": []
   },
   "outputs": [],
   "source": [
    "import numpy as np\n",
    "import pandas as pd\n",
    "import matplotlib.pyplot as plt\n",
    "import seaborn as sns\n",
    "%matplotlib inline\n"
   ]
  },
  {
   "cell_type": "code",
   "execution_count": 2,
   "id": "d855756f-e1ee-4898-80b0-71461452dbdf",
   "metadata": {
    "tags": []
   },
   "outputs": [],
   "source": [
    "import warnings\n",
    "warnings.filterwarnings('ignore')"
   ]
  },
  {
   "cell_type": "code",
   "execution_count": 3,
   "id": "363a94ed-a388-4178-a25d-99415dd68d1c",
   "metadata": {
    "tags": []
   },
   "outputs": [
    {
     "data": {
      "text/html": [
       "<div>\n",
       "<style scoped>\n",
       "    .dataframe tbody tr th:only-of-type {\n",
       "        vertical-align: middle;\n",
       "    }\n",
       "\n",
       "    .dataframe tbody tr th {\n",
       "        vertical-align: top;\n",
       "    }\n",
       "\n",
       "    .dataframe thead th {\n",
       "        text-align: right;\n",
       "    }\n",
       "</style>\n",
       "<table border=\"1\" class=\"dataframe\">\n",
       "  <thead>\n",
       "    <tr style=\"text-align: right;\">\n",
       "      <th></th>\n",
       "      <th>samples</th>\n",
       "      <th>type</th>\n",
       "      <th>1007_s_at</th>\n",
       "      <th>1053_at</th>\n",
       "      <th>117_at</th>\n",
       "      <th>121_at</th>\n",
       "      <th>1255_g_at</th>\n",
       "      <th>1294_at</th>\n",
       "      <th>1316_at</th>\n",
       "      <th>1320_at</th>\n",
       "      <th>...</th>\n",
       "      <th>AFFX-r2-Ec-bioD-3_at</th>\n",
       "      <th>AFFX-r2-Ec-bioD-5_at</th>\n",
       "      <th>AFFX-r2-P1-cre-3_at</th>\n",
       "      <th>AFFX-r2-P1-cre-5_at</th>\n",
       "      <th>AFFX-ThrX-3_at</th>\n",
       "      <th>AFFX-ThrX-5_at</th>\n",
       "      <th>AFFX-ThrX-M_at</th>\n",
       "      <th>AFFX-TrpnX-3_at</th>\n",
       "      <th>AFFX-TrpnX-5_at</th>\n",
       "      <th>AFFX-TrpnX-M_at</th>\n",
       "    </tr>\n",
       "  </thead>\n",
       "  <tbody>\n",
       "    <tr>\n",
       "      <th>0</th>\n",
       "      <td>834</td>\n",
       "      <td>ependymoma</td>\n",
       "      <td>12.498150</td>\n",
       "      <td>7.604868</td>\n",
       "      <td>6.880934</td>\n",
       "      <td>9.027128</td>\n",
       "      <td>4.176175</td>\n",
       "      <td>7.224920</td>\n",
       "      <td>6.085942</td>\n",
       "      <td>6.835999</td>\n",
       "      <td>...</td>\n",
       "      <td>9.979005</td>\n",
       "      <td>9.926470</td>\n",
       "      <td>12.719785</td>\n",
       "      <td>12.777792</td>\n",
       "      <td>5.403657</td>\n",
       "      <td>4.870548</td>\n",
       "      <td>4.047380</td>\n",
       "      <td>3.721936</td>\n",
       "      <td>4.516434</td>\n",
       "      <td>4.749940</td>\n",
       "    </tr>\n",
       "    <tr>\n",
       "      <th>1</th>\n",
       "      <td>835</td>\n",
       "      <td>ependymoma</td>\n",
       "      <td>13.067436</td>\n",
       "      <td>7.998090</td>\n",
       "      <td>7.209076</td>\n",
       "      <td>9.723322</td>\n",
       "      <td>4.826126</td>\n",
       "      <td>7.539381</td>\n",
       "      <td>6.250962</td>\n",
       "      <td>8.012549</td>\n",
       "      <td>...</td>\n",
       "      <td>11.924749</td>\n",
       "      <td>11.215930</td>\n",
       "      <td>13.605662</td>\n",
       "      <td>13.401342</td>\n",
       "      <td>5.224555</td>\n",
       "      <td>4.895315</td>\n",
       "      <td>3.786437</td>\n",
       "      <td>3.564481</td>\n",
       "      <td>4.430891</td>\n",
       "      <td>4.491416</td>\n",
       "    </tr>\n",
       "    <tr>\n",
       "      <th>2</th>\n",
       "      <td>836</td>\n",
       "      <td>ependymoma</td>\n",
       "      <td>13.068179</td>\n",
       "      <td>8.573674</td>\n",
       "      <td>8.647684</td>\n",
       "      <td>9.613002</td>\n",
       "      <td>4.396581</td>\n",
       "      <td>7.813101</td>\n",
       "      <td>6.007746</td>\n",
       "      <td>7.178156</td>\n",
       "      <td>...</td>\n",
       "      <td>12.154405</td>\n",
       "      <td>11.532460</td>\n",
       "      <td>13.764593</td>\n",
       "      <td>13.477800</td>\n",
       "      <td>5.303565</td>\n",
       "      <td>5.052184</td>\n",
       "      <td>4.005343</td>\n",
       "      <td>3.595382</td>\n",
       "      <td>4.563494</td>\n",
       "      <td>4.668827</td>\n",
       "    </tr>\n",
       "    <tr>\n",
       "      <th>3</th>\n",
       "      <td>837</td>\n",
       "      <td>ependymoma</td>\n",
       "      <td>12.456040</td>\n",
       "      <td>9.098977</td>\n",
       "      <td>6.628784</td>\n",
       "      <td>8.517677</td>\n",
       "      <td>4.154847</td>\n",
       "      <td>8.361843</td>\n",
       "      <td>6.596064</td>\n",
       "      <td>6.347285</td>\n",
       "      <td>...</td>\n",
       "      <td>11.969072</td>\n",
       "      <td>11.288801</td>\n",
       "      <td>13.600828</td>\n",
       "      <td>13.379029</td>\n",
       "      <td>4.953429</td>\n",
       "      <td>4.708371</td>\n",
       "      <td>3.892318</td>\n",
       "      <td>3.759429</td>\n",
       "      <td>4.748381</td>\n",
       "      <td>4.521275</td>\n",
       "    </tr>\n",
       "    <tr>\n",
       "      <th>4</th>\n",
       "      <td>838</td>\n",
       "      <td>ependymoma</td>\n",
       "      <td>12.699958</td>\n",
       "      <td>8.800721</td>\n",
       "      <td>11.556188</td>\n",
       "      <td>9.166309</td>\n",
       "      <td>4.165891</td>\n",
       "      <td>7.923826</td>\n",
       "      <td>6.212754</td>\n",
       "      <td>6.866387</td>\n",
       "      <td>...</td>\n",
       "      <td>11.411701</td>\n",
       "      <td>11.169317</td>\n",
       "      <td>13.751442</td>\n",
       "      <td>13.803646</td>\n",
       "      <td>4.892677</td>\n",
       "      <td>4.773806</td>\n",
       "      <td>3.796856</td>\n",
       "      <td>3.577544</td>\n",
       "      <td>4.504385</td>\n",
       "      <td>4.541450</td>\n",
       "    </tr>\n",
       "  </tbody>\n",
       "</table>\n",
       "<p>5 rows × 54677 columns</p>\n",
       "</div>"
      ],
      "text/plain": [
       "   samples        type  1007_s_at   1053_at     117_at    121_at  1255_g_at  \\\n",
       "0      834  ependymoma  12.498150  7.604868   6.880934  9.027128   4.176175   \n",
       "1      835  ependymoma  13.067436  7.998090   7.209076  9.723322   4.826126   \n",
       "2      836  ependymoma  13.068179  8.573674   8.647684  9.613002   4.396581   \n",
       "3      837  ependymoma  12.456040  9.098977   6.628784  8.517677   4.154847   \n",
       "4      838  ependymoma  12.699958  8.800721  11.556188  9.166309   4.165891   \n",
       "\n",
       "    1294_at   1316_at   1320_at  ...  AFFX-r2-Ec-bioD-3_at  \\\n",
       "0  7.224920  6.085942  6.835999  ...              9.979005   \n",
       "1  7.539381  6.250962  8.012549  ...             11.924749   \n",
       "2  7.813101  6.007746  7.178156  ...             12.154405   \n",
       "3  8.361843  6.596064  6.347285  ...             11.969072   \n",
       "4  7.923826  6.212754  6.866387  ...             11.411701   \n",
       "\n",
       "   AFFX-r2-Ec-bioD-5_at  AFFX-r2-P1-cre-3_at  AFFX-r2-P1-cre-5_at  \\\n",
       "0              9.926470            12.719785            12.777792   \n",
       "1             11.215930            13.605662            13.401342   \n",
       "2             11.532460            13.764593            13.477800   \n",
       "3             11.288801            13.600828            13.379029   \n",
       "4             11.169317            13.751442            13.803646   \n",
       "\n",
       "   AFFX-ThrX-3_at  AFFX-ThrX-5_at  AFFX-ThrX-M_at  AFFX-TrpnX-3_at  \\\n",
       "0        5.403657        4.870548        4.047380         3.721936   \n",
       "1        5.224555        4.895315        3.786437         3.564481   \n",
       "2        5.303565        5.052184        4.005343         3.595382   \n",
       "3        4.953429        4.708371        3.892318         3.759429   \n",
       "4        4.892677        4.773806        3.796856         3.577544   \n",
       "\n",
       "   AFFX-TrpnX-5_at  AFFX-TrpnX-M_at  \n",
       "0         4.516434         4.749940  \n",
       "1         4.430891         4.491416  \n",
       "2         4.563494         4.668827  \n",
       "3         4.748381         4.521275  \n",
       "4         4.504385         4.541450  \n",
       "\n",
       "[5 rows x 54677 columns]"
      ]
     },
     "execution_count": 3,
     "metadata": {},
     "output_type": "execute_result"
    }
   ],
   "source": [
    "defaulter_df = pd.read_csv(\"Brain_GSE50161.csv\")\n",
    "defaulter_df.head()"
   ]
  },
  {
   "cell_type": "code",
   "execution_count": 4,
   "id": "54d763a5-2ebd-45d7-b260-748760a51ce4",
   "metadata": {
    "tags": []
   },
   "outputs": [
    {
     "name": "stdout",
     "output_type": "stream",
     "text": [
      "Size of the data :  (130, 54677)\n"
     ]
    }
   ],
   "source": [
    "print(\"Size of the data : \", defaulter_df.shape)"
   ]
  },
  {
   "cell_type": "code",
   "execution_count": 5,
   "id": "ddc73b0c-658e-4c33-a11e-9b36b3de99da",
   "metadata": {
    "tags": []
   },
   "outputs": [
    {
     "name": "stdout",
     "output_type": "stream",
     "text": [
      "Target variable frequency distribution : \n",
      " ependymoma               46\n",
      "glioblastoma             34\n",
      "medulloblastoma          22\n",
      "pilocytic_astrocytoma    15\n",
      "normal                   13\n",
      "Name: type, dtype: int64\n"
     ]
    }
   ],
   "source": [
    "print(\"Target variable frequency distribution : \\n\", defaulter_df[\"type\"].value_counts())"
   ]
  },
  {
   "cell_type": "code",
   "execution_count": 65,
   "id": "7d67ce48-1b95-459e-a3ef-d0f180e546b5",
   "metadata": {
    "tags": []
   },
   "outputs": [
    {
     "data": {
      "image/png": "[encoded data removed]",
      "text/plain": [
       "<Figure size 1000x800 with 1 Axes>"
      ]
     },
     "metadata": {},
     "output_type": "display_data"
    }
   ],
   "source": [
    "plt.figure(figsize=(10, 8))\n",
    "sns.countplot(data=defaulter_df, x=\"type\")\n",
    "plt.title(\"Frequency distribution of the target variable - Type\")\n",
    "plt.show()"
   ]
  },
  {
   "cell_type": "code",
   "execution_count": 7,
   "id": "50224f81-b5f3-4a7e-9081-52b871f02e94",
   "metadata": {
    "tags": []
   },
   "outputs": [],
   "source": [
    "X = defaulter_df[[\"1007_s_at\", \"1053_at\"]]\n",
    "y = defaulter_df[\"type\"]"
   ]
  },
  {
   "cell_type": "code",
   "execution_count": 8,
   "id": "8bd5e052-0fcf-4c93-997e-30075e2efdd2",
   "metadata": {
    "tags": []
   },
   "outputs": [],
   "source": [
    "from sklearn.model_selection import train_test_split"
   ]
  },
  {
   "cell_type": "code",
   "execution_count": 9,
   "id": "c1a7cc85-5884-44bc-93a0-423d38781896",
   "metadata": {
    "tags": []
   },
   "outputs": [],
   "source": [
    "X_train, X_test, y_train, y_test = train_test_split(X,y, test_size = 0.2, random_state = 42)"
   ]
  },
  {
   "cell_type": "code",
   "execution_count": 10,
   "id": "29acbc9a-9445-4453-a2c3-a6efaf8d80fc",
   "metadata": {
    "tags": []
   },
   "outputs": [
    {
     "name": "stdout",
     "output_type": "stream",
     "text": [
      "Size of training data :  104\n",
      "Size of test data :  26\n"
     ]
    }
   ],
   "source": [
    "print(\"Size of training data : \", X_train.shape[0])\n",
    "print(\"Size of test data : \", X_test.shape[0])"
   ]
  },
  {
   "cell_type": "code",
   "execution_count": 11,
   "id": "75694e30-e9df-4653-a142-e800e5d539b4",
   "metadata": {
    "tags": []
   },
   "outputs": [],
   "source": [
    "from sklearn.preprocessing import MinMaxScaler"
   ]
  },
  {
   "cell_type": "code",
   "execution_count": 12,
   "id": "a0f008f2-3256-42dd-a1d5-292664c103b5",
   "metadata": {
    "tags": []
   },
   "outputs": [
    {
     "data": {
      "text/plain": [
       "array([[ 0.64491396,  0.74757875],\n",
       "       [ 0.72242018,  0.64551829],\n",
       "       [ 0.83790112,  0.50021006],\n",
       "       [ 0.77105342,  0.34421979],\n",
       "       [ 0.82508144,  0.46261997],\n",
       "       [ 0.81206929,  0.45129481],\n",
       "       [ 0.88503001,  0.57701133],\n",
       "       [ 0.35371532,  0.11129223],\n",
       "       [ 0.23428975,  0.63174312],\n",
       "       [ 0.78214228,  0.44277809],\n",
       "       [ 0.22095209,  0.51975839],\n",
       "       [ 0.77920038,  0.28729649],\n",
       "       [ 0.56719711,  0.8589369 ],\n",
       "       [ 0.69847229,  0.53150113],\n",
       "       [-0.03497508,  0.80025459],\n",
       "       [ 0.22369545,  0.69304523],\n",
       "       [ 0.46068604,  0.54430729],\n",
       "       [-0.10410887,  0.74996014],\n",
       "       [ 0.42948982,  0.47645404],\n",
       "       [ 0.33928165,  0.45237546],\n",
       "       [ 0.75662347,  0.57548559],\n",
       "       [ 0.76822146,  0.48741863],\n",
       "       [ 0.86281597,  0.44323647],\n",
       "       [ 0.72579305,  0.23064642],\n",
       "       [ 0.73408232,  0.46052212],\n",
       "       [ 0.68061091,  0.43566536]])"
      ]
     },
     "execution_count": 12,
     "metadata": {},
     "output_type": "execute_result"
    }
   ],
   "source": [
    "min_max = MinMaxScaler()\n",
    "min_max.fit(X_train)\n",
    "train_transformed = min_max.transform(X_train)\n",
    "transformed = min_max.transform(X_test)\n",
    "transformed\n"
   ]
  },
  {
   "cell_type": "code",
   "execution_count": 15,
   "id": "043f550e-a0ac-4b0d-bfc9-b51dd36b0163",
   "metadata": {
    "tags": []
   },
   "outputs": [
    {
     "data": {
      "text/html": [
       "<div>\n",
       "<style scoped>\n",
       "    .dataframe tbody tr th:only-of-type {\n",
       "        vertical-align: middle;\n",
       "    }\n",
       "\n",
       "    .dataframe tbody tr th {\n",
       "        vertical-align: top;\n",
       "    }\n",
       "\n",
       "    .dataframe thead th {\n",
       "        text-align: right;\n",
       "    }\n",
       "</style>\n",
       "<table border=\"1\" class=\"dataframe\">\n",
       "  <thead>\n",
       "    <tr style=\"text-align: right;\">\n",
       "      <th></th>\n",
       "      <th>1007_s_at</th>\n",
       "      <th>1053_at</th>\n",
       "      <th>1007_s_at_normalized</th>\n",
       "      <th>1053_at_normalized</th>\n",
       "    </tr>\n",
       "  </thead>\n",
       "  <tbody>\n",
       "    <tr>\n",
       "      <th>70</th>\n",
       "      <td>12.381536</td>\n",
       "      <td>9.282545</td>\n",
       "      <td>0.598007</td>\n",
       "      <td>0.649360</td>\n",
       "    </tr>\n",
       "    <tr>\n",
       "      <th>78</th>\n",
       "      <td>12.765997</td>\n",
       "      <td>9.581127</td>\n",
       "      <td>0.719308</td>\n",
       "      <td>0.722397</td>\n",
       "    </tr>\n",
       "    <tr>\n",
       "      <th>47</th>\n",
       "      <td>12.111837</td>\n",
       "      <td>9.909101</td>\n",
       "      <td>0.512914</td>\n",
       "      <td>0.802623</td>\n",
       "    </tr>\n",
       "    <tr>\n",
       "      <th>0</th>\n",
       "      <td>12.498150</td>\n",
       "      <td>7.604868</td>\n",
       "      <td>0.634800</td>\n",
       "      <td>0.238982</td>\n",
       "    </tr>\n",
       "    <tr>\n",
       "      <th>12</th>\n",
       "      <td>12.545334</td>\n",
       "      <td>8.413482</td>\n",
       "      <td>0.649687</td>\n",
       "      <td>0.436778</td>\n",
       "    </tr>\n",
       "  </tbody>\n",
       "</table>\n",
       "</div>"
      ],
      "text/plain": [
       "    1007_s_at   1053_at  1007_s_at_normalized  1053_at_normalized\n",
       "70  12.381536  9.282545              0.598007            0.649360\n",
       "78  12.765997  9.581127              0.719308            0.722397\n",
       "47  12.111837  9.909101              0.512914            0.802623\n",
       "0   12.498150  7.604868              0.634800            0.238982\n",
       "12  12.545334  8.413482              0.649687            0.436778"
      ]
     },
     "execution_count": 15,
     "metadata": {},
     "output_type": "execute_result"
    }
   ],
   "source": [
    "X_train[\"1007_s_at_normalized\"] = train_transformed[:,0]\n",
    "X_train[\"1053_at_normalized\"] = train_transformed[:,1]\n",
    "X_train.head()"
   ]
  },
  {
   "cell_type": "code",
   "execution_count": 16,
   "id": "fb52653c-b42d-482b-b1cb-d494efc1a6ef",
   "metadata": {
    "tags": []
   },
   "outputs": [
    {
     "data": {
      "text/html": [
       "<div>\n",
       "<style scoped>\n",
       "    .dataframe tbody tr th:only-of-type {\n",
       "        vertical-align: middle;\n",
       "    }\n",
       "\n",
       "    .dataframe tbody tr th {\n",
       "        vertical-align: top;\n",
       "    }\n",
       "\n",
       "    .dataframe thead th {\n",
       "        text-align: right;\n",
       "    }\n",
       "</style>\n",
       "<table border=\"1\" class=\"dataframe\">\n",
       "  <thead>\n",
       "    <tr style=\"text-align: right;\">\n",
       "      <th></th>\n",
       "      <th>1007_s_at</th>\n",
       "      <th>1053_at</th>\n",
       "      <th>1007_s_at_normalized</th>\n",
       "      <th>1053_at_normalized</th>\n",
       "    </tr>\n",
       "  </thead>\n",
       "  <tbody>\n",
       "    <tr>\n",
       "      <th>55</th>\n",
       "      <td>12.530207</td>\n",
       "      <td>9.684074</td>\n",
       "      <td>0.644914</td>\n",
       "      <td>0.747579</td>\n",
       "    </tr>\n",
       "    <tr>\n",
       "      <th>40</th>\n",
       "      <td>12.775860</td>\n",
       "      <td>9.266838</td>\n",
       "      <td>0.722420</td>\n",
       "      <td>0.645518</td>\n",
       "    </tr>\n",
       "    <tr>\n",
       "      <th>19</th>\n",
       "      <td>13.141872</td>\n",
       "      <td>8.672800</td>\n",
       "      <td>0.837901</td>\n",
       "      <td>0.500210</td>\n",
       "    </tr>\n",
       "    <tr>\n",
       "      <th>31</th>\n",
       "      <td>12.930001</td>\n",
       "      <td>8.035092</td>\n",
       "      <td>0.771053</td>\n",
       "      <td>0.344220</td>\n",
       "    </tr>\n",
       "    <tr>\n",
       "      <th>115</th>\n",
       "      <td>13.101241</td>\n",
       "      <td>8.519127</td>\n",
       "      <td>0.825081</td>\n",
       "      <td>0.462620</td>\n",
       "    </tr>\n",
       "  </tbody>\n",
       "</table>\n",
       "</div>"
      ],
      "text/plain": [
       "     1007_s_at   1053_at  1007_s_at_normalized  1053_at_normalized\n",
       "55   12.530207  9.684074              0.644914            0.747579\n",
       "40   12.775860  9.266838              0.722420            0.645518\n",
       "19   13.141872  8.672800              0.837901            0.500210\n",
       "31   12.930001  8.035092              0.771053            0.344220\n",
       "115  13.101241  8.519127              0.825081            0.462620"
      ]
     },
     "execution_count": 16,
     "metadata": {},
     "output_type": "execute_result"
    }
   ],
   "source": [
    "X_test[\"1007_s_at_normalized\"] = transformed[:,0]\n",
    "X_test[\"1053_at_normalized\"] = transformed[:,1]\n",
    "X_test.head()"
   ]
  },
  {
   "cell_type": "code",
   "execution_count": 17,
   "id": "2b5e3c99-69b6-4263-a612-82ec65ec8bac",
   "metadata": {
    "tags": []
   },
   "outputs": [],
   "source": [
    "from sklearn.neighbors import KNeighborsClassifier\n",
    "from sklearn.metrics import accuracy_score"
   ]
  },
  {
   "cell_type": "code",
   "execution_count": 18,
   "id": "5a128c24-54b2-4ece-8d09-7009472c3f60",
   "metadata": {
    "tags": []
   },
   "outputs": [
    {
     "data": {
      "text/plain": [
       "0.6538461538461539"
      ]
     },
     "execution_count": 18,
     "metadata": {},
     "output_type": "execute_result"
    }
   ],
   "source": [
    "knn =  KNeighborsClassifier(n_neighbors = 5, metric = \"euclidean\")\n",
    "knn.fit(X_train[[\"1007_s_at\",\"1053_at\"]], y_train)\n",
    "predictions = knn.predict(X_test[[\"1007_s_at\",\"1053_at\"]])\n",
    "test_accuracy = accuracy_score(y_test, predictions)\n",
    "test_accuracy"
   ]
  },
  {
   "cell_type": "code",
   "execution_count": 19,
   "id": "61d9ea29-df6e-46de-a661-99d699fbfb56",
   "metadata": {
    "tags": []
   },
   "outputs": [
    {
     "data": {
      "text/plain": [
       "0.6923076923076923"
      ]
     },
     "execution_count": 19,
     "metadata": {},
     "output_type": "execute_result"
    }
   ],
   "source": [
    "knn =  KNeighborsClassifier(n_neighbors = 5, metric = \"euclidean\")\n",
    "knn.fit(X_train[[\"1007_s_at_normalized\",\"1053_at_normalized\"]], y_train)\n",
    "predictions = knn.predict(X_test[[\"1007_s_at_normalized\",\"1053_at_normalized\"]])\n",
    "test_accuracy = accuracy_score(y_test, predictions)\n",
    "test_accuracy"
   ]
  },
  {
   "cell_type": "code",
   "execution_count": 24,
   "id": "55b7567f-101a-49ad-964f-25f8b18195ca",
   "metadata": {
    "tags": []
   },
   "outputs": [],
   "source": [
    "from sklearn.metrics import confusion_matrix \n",
    "from sklearn.metrics import classification_report"
   ]
  },
  {
   "cell_type": "code",
   "execution_count": 35,
   "id": "15df67e4-4b2d-4268-9176-6b1aff8007c2",
   "metadata": {
    "tags": []
   },
   "outputs": [
    {
     "data": {
      "text/html": [
       "<div>\n",
       "<style scoped>\n",
       "    .dataframe tbody tr th:only-of-type {\n",
       "        vertical-align: middle;\n",
       "    }\n",
       "\n",
       "    .dataframe tbody tr th {\n",
       "        vertical-align: top;\n",
       "    }\n",
       "\n",
       "    .dataframe thead th {\n",
       "        text-align: right;\n",
       "    }\n",
       "</style>\n",
       "<table border=\"1\" class=\"dataframe\">\n",
       "  <thead>\n",
       "    <tr style=\"text-align: right;\">\n",
       "      <th></th>\n",
       "      <th>ependymoma</th>\n",
       "      <th>glioblastoma</th>\n",
       "      <th>medulloblastoma</th>\n",
       "      <th>normal</th>\n",
       "      <th>pilocytic_astrocytoma</th>\n",
       "    </tr>\n",
       "  </thead>\n",
       "  <tbody>\n",
       "    <tr>\n",
       "      <th>ependymoma</th>\n",
       "      <td>1</td>\n",
       "      <td>2</td>\n",
       "      <td>0</td>\n",
       "      <td>0</td>\n",
       "      <td>8</td>\n",
       "    </tr>\n",
       "    <tr>\n",
       "      <th>glioblastoma</th>\n",
       "      <td>0</td>\n",
       "      <td>2</td>\n",
       "      <td>0</td>\n",
       "      <td>0</td>\n",
       "      <td>2</td>\n",
       "    </tr>\n",
       "    <tr>\n",
       "      <th>medulloblastoma</th>\n",
       "      <td>0</td>\n",
       "      <td>0</td>\n",
       "      <td>7</td>\n",
       "      <td>0</td>\n",
       "      <td>0</td>\n",
       "    </tr>\n",
       "    <tr>\n",
       "      <th>normal</th>\n",
       "      <td>0</td>\n",
       "      <td>0</td>\n",
       "      <td>0</td>\n",
       "      <td>1</td>\n",
       "      <td>0</td>\n",
       "    </tr>\n",
       "    <tr>\n",
       "      <th>pilocytic_astrocytoma</th>\n",
       "      <td>1</td>\n",
       "      <td>0</td>\n",
       "      <td>0</td>\n",
       "      <td>0</td>\n",
       "      <td>2</td>\n",
       "    </tr>\n",
       "  </tbody>\n",
       "</table>\n",
       "</div>"
      ],
      "text/plain": [
       "                       ependymoma  glioblastoma  medulloblastoma  normal  \\\n",
       "ependymoma                      1             2                0       0   \n",
       "glioblastoma                    0             2                0       0   \n",
       "medulloblastoma                 0             0                7       0   \n",
       "normal                          0             0                0       1   \n",
       "pilocytic_astrocytoma           1             0                0       0   \n",
       "\n",
       "                       pilocytic_astrocytoma  \n",
       "ependymoma                                 8  \n",
       "glioblastoma                               2  \n",
       "medulloblastoma                            0  \n",
       "normal                                     0  \n",
       "pilocytic_astrocytoma                      2  "
      ]
     },
     "execution_count": 35,
     "metadata": {},
     "output_type": "execute_result"
    }
   ],
   "source": [
    "cm = confusion_matrix(y_test, predictions)\n",
    "pd.DataFrame(cm, columns = [\"ependymoma\", \"glioblastoma\",\"medulloblastoma\",\"normal\",\"pilocytic_astrocytoma\"], index = [\"ependymoma\", \"glioblastoma\",\"medulloblastoma\",\"normal\",\"pilocytic_astrocytoma\"])"
   ]
  },
  {
   "cell_type": "code",
   "execution_count": 26,
   "id": "c66b7060-1c1b-40e0-9a50-4c1fa8158299",
   "metadata": {},
   "outputs": [
    {
     "name": "stdout",
     "output_type": "stream",
     "text": [
      "                       precision    recall  f1-score   support\n",
      "\n",
      "           ependymoma       0.73      0.73      0.73        11\n",
      "         glioblastoma       0.38      0.75      0.50         4\n",
      "      medulloblastoma       1.00      0.86      0.92         7\n",
      "               normal       1.00      1.00      1.00         1\n",
      "pilocytic_astrocytoma       0.00      0.00      0.00         3\n",
      "\n",
      "             accuracy                           0.69        26\n",
      "            macro avg       0.62      0.67      0.63        26\n",
      "         weighted avg       0.67      0.69      0.67        26\n",
      "\n"
     ]
    }
   ],
   "source": [
    "print(classification_report(y_test,predictions))"
   ]
  },
  {
   "cell_type": "code",
   "execution_count": 27,
   "id": "c141de3f-71aa-4613-bce9-46ae923d54d3",
   "metadata": {
    "tags": []
   },
   "outputs": [],
   "source": [
    "from imblearn.under_sampling import RandomUnderSampler"
   ]
  },
  {
   "cell_type": "code",
   "execution_count": 28,
   "id": "bb14e869-229c-4b70-9a02-64d4c5fe8011",
   "metadata": {
    "tags": []
   },
   "outputs": [
    {
     "name": "stdout",
     "output_type": "stream",
     "text": [
      "Before undersampling: \n",
      " ependymoma               35\n",
      "glioblastoma             30\n",
      "medulloblastoma          15\n",
      "normal                   12\n",
      "pilocytic_astrocytoma    12\n",
      "Name: type, dtype: int64\n"
     ]
    }
   ],
   "source": [
    "print(\"Before undersampling: \\n\", y_train.value_counts())"
   ]
  },
  {
   "cell_type": "code",
   "execution_count": 29,
   "id": "481bacfe-b50f-4f5a-99c3-db76aee40893",
   "metadata": {
    "tags": []
   },
   "outputs": [],
   "source": [
    "under_sampling = RandomUnderSampler(random_state=42, replacement=True)# fit predictor and target variable\n",
    "X_train_under, y_train_under  = under_sampling.fit_resample(X_train, y_train)"
   ]
  },
  {
   "cell_type": "code",
   "execution_count": 30,
   "id": "0aa8f892-7f84-409b-bd8f-39de663e382d",
   "metadata": {
    "tags": []
   },
   "outputs": [
    {
     "name": "stdout",
     "output_type": "stream",
     "text": [
      "After undersampling: \n",
      " ependymoma               12\n",
      "glioblastoma             12\n",
      "medulloblastoma          12\n",
      "normal                   12\n",
      "pilocytic_astrocytoma    12\n",
      "Name: type, dtype: int64\n"
     ]
    }
   ],
   "source": [
    "print(\"After undersampling: \\n\", y_train_under.value_counts())"
   ]
  },
  {
   "cell_type": "code",
   "execution_count": 32,
   "id": "732e908e-1a85-44ee-a2a0-d25ff95749d0",
   "metadata": {
    "tags": []
   },
   "outputs": [
    {
     "data": {
      "text/plain": [
       "0.5"
      ]
     },
     "execution_count": 32,
     "metadata": {},
     "output_type": "execute_result"
    }
   ],
   "source": [
    "knn =  KNeighborsClassifier(n_neighbors = 5, metric = \"euclidean\")\n",
    "knn.fit(X_train_under[[\"1007_s_at_normalized\",\"1053_at_normalized\"]], y_train_under)\n",
    "predictions = knn.predict(X_test[[\"1007_s_at_normalized\",\"1053_at_normalized\"]])\n",
    "test_accuracy = accuracy_score(y_test, predictions)\n",
    "test_accuracy"
   ]
  },
  {
   "cell_type": "code",
   "execution_count": 34,
   "id": "044f00c1-e061-4c22-b815-2ce4a36d77ec",
   "metadata": {
    "tags": []
   },
   "outputs": [
    {
     "data": {
      "text/html": [
       "<div>\n",
       "<style scoped>\n",
       "    .dataframe tbody tr th:only-of-type {\n",
       "        vertical-align: middle;\n",
       "    }\n",
       "\n",
       "    .dataframe tbody tr th {\n",
       "        vertical-align: top;\n",
       "    }\n",
       "\n",
       "    .dataframe thead th {\n",
       "        text-align: right;\n",
       "    }\n",
       "</style>\n",
       "<table border=\"1\" class=\"dataframe\">\n",
       "  <thead>\n",
       "    <tr style=\"text-align: right;\">\n",
       "      <th></th>\n",
       "      <th>ependymoma</th>\n",
       "      <th>glioblastoma</th>\n",
       "      <th>medulloblastoma</th>\n",
       "      <th>normal</th>\n",
       "      <th>pilocytic_astrocytoma</th>\n",
       "    </tr>\n",
       "  </thead>\n",
       "  <tbody>\n",
       "    <tr>\n",
       "      <th>ependymoma</th>\n",
       "      <td>1</td>\n",
       "      <td>2</td>\n",
       "      <td>0</td>\n",
       "      <td>0</td>\n",
       "      <td>8</td>\n",
       "    </tr>\n",
       "    <tr>\n",
       "      <th>glioblastoma</th>\n",
       "      <td>0</td>\n",
       "      <td>2</td>\n",
       "      <td>0</td>\n",
       "      <td>0</td>\n",
       "      <td>2</td>\n",
       "    </tr>\n",
       "    <tr>\n",
       "      <th>medulloblastoma</th>\n",
       "      <td>0</td>\n",
       "      <td>0</td>\n",
       "      <td>7</td>\n",
       "      <td>0</td>\n",
       "      <td>0</td>\n",
       "    </tr>\n",
       "    <tr>\n",
       "      <th>normal</th>\n",
       "      <td>0</td>\n",
       "      <td>0</td>\n",
       "      <td>0</td>\n",
       "      <td>1</td>\n",
       "      <td>0</td>\n",
       "    </tr>\n",
       "    <tr>\n",
       "      <th>pilocytic_astrocytoma</th>\n",
       "      <td>1</td>\n",
       "      <td>0</td>\n",
       "      <td>0</td>\n",
       "      <td>0</td>\n",
       "      <td>2</td>\n",
       "    </tr>\n",
       "  </tbody>\n",
       "</table>\n",
       "</div>"
      ],
      "text/plain": [
       "                       ependymoma  glioblastoma  medulloblastoma  normal  \\\n",
       "ependymoma                      1             2                0       0   \n",
       "glioblastoma                    0             2                0       0   \n",
       "medulloblastoma                 0             0                7       0   \n",
       "normal                          0             0                0       1   \n",
       "pilocytic_astrocytoma           1             0                0       0   \n",
       "\n",
       "                       pilocytic_astrocytoma  \n",
       "ependymoma                                 8  \n",
       "glioblastoma                               2  \n",
       "medulloblastoma                            0  \n",
       "normal                                     0  \n",
       "pilocytic_astrocytoma                      2  "
      ]
     },
     "execution_count": 34,
     "metadata": {},
     "output_type": "execute_result"
    }
   ],
   "source": [
    "cm = confusion_matrix(y_test, predictions)\n",
    "pd.DataFrame(cm, columns = [\"ependymoma\", \"glioblastoma\",\"medulloblastoma\",\"normal\",\"pilocytic_astrocytoma\"], index = [\"ependymoma\", \"glioblastoma\",\"medulloblastoma\",\"normal\",\"pilocytic_astrocytoma\"])"
   ]
  },
  {
   "cell_type": "code",
   "execution_count": 36,
   "id": "578d59ec-3991-4682-8e07-54cd88a662c3",
   "metadata": {
    "tags": []
   },
   "outputs": [
    {
     "name": "stdout",
     "output_type": "stream",
     "text": [
      "                       precision    recall  f1-score   support\n",
      "\n",
      "           ependymoma       0.50      0.09      0.15        11\n",
      "         glioblastoma       0.50      0.50      0.50         4\n",
      "      medulloblastoma       1.00      1.00      1.00         7\n",
      "               normal       1.00      1.00      1.00         1\n",
      "pilocytic_astrocytoma       0.17      0.67      0.27         3\n",
      "\n",
      "             accuracy                           0.50        26\n",
      "            macro avg       0.63      0.65      0.58        26\n",
      "         weighted avg       0.62      0.50      0.48        26\n",
      "\n"
     ]
    }
   ],
   "source": [
    "print(classification_report(y_test,predictions))"
   ]
  },
  {
   "cell_type": "code",
   "execution_count": 37,
   "id": "51e7478e-a2e3-48e8-a12e-24d34f4d18ab",
   "metadata": {
    "tags": []
   },
   "outputs": [],
   "source": [
    "from imblearn.over_sampling import RandomOverSampler"
   ]
  },
  {
   "cell_type": "code",
   "execution_count": 38,
   "id": "df778d27-0817-4cea-8e61-8f86d4c50a0e",
   "metadata": {
    "tags": []
   },
   "outputs": [
    {
     "name": "stdout",
     "output_type": "stream",
     "text": [
      "Before oversampling: \n",
      " ependymoma               35\n",
      "glioblastoma             30\n",
      "medulloblastoma          15\n",
      "normal                   12\n",
      "pilocytic_astrocytoma    12\n",
      "Name: type, dtype: int64\n"
     ]
    }
   ],
   "source": [
    "print(\"Before oversampling: \\n\", y_train.value_counts())"
   ]
  },
  {
   "cell_type": "code",
   "execution_count": 39,
   "id": "19f60a68-7c19-47c8-81fc-8465a3e6006d",
   "metadata": {
    "tags": []
   },
   "outputs": [],
   "source": [
    "over_sampling = RandomOverSampler(random_state=42)\n",
    "X_train_over, y_train_over  = over_sampling.fit_resample(X_train, y_train)"
   ]
  },
  {
   "cell_type": "code",
   "execution_count": 40,
   "id": "feada275-8c98-413a-a030-ee6f78282600",
   "metadata": {
    "tags": []
   },
   "outputs": [
    {
     "name": "stdout",
     "output_type": "stream",
     "text": [
      "After oversampling: \n",
      " glioblastoma             35\n",
      "ependymoma               35\n",
      "normal                   35\n",
      "medulloblastoma          35\n",
      "pilocytic_astrocytoma    35\n",
      "Name: type, dtype: int64\n"
     ]
    }
   ],
   "source": [
    "print(\"After oversampling: \\n\", y_train_over.value_counts())"
   ]
  },
  {
   "cell_type": "code",
   "execution_count": 41,
   "id": "e422deac-ddc4-4292-a0bd-698b4b3cfaa8",
   "metadata": {
    "tags": []
   },
   "outputs": [
    {
     "data": {
      "text/plain": [
       "0.46153846153846156"
      ]
     },
     "execution_count": 41,
     "metadata": {},
     "output_type": "execute_result"
    }
   ],
   "source": [
    "knn =  KNeighborsClassifier(n_neighbors = 5, metric = \"euclidean\")\n",
    "knn.fit(X_train_over[[\"1007_s_at_normalized\",\"1053_at_normalized\"]], y_train_over)\n",
    "predictions = knn.predict(X_test[[\"1007_s_at_normalized\",\"1053_at_normalized\"]])\n",
    "test_accuracy = accuracy_score(y_test, predictions)\n",
    "test_accuracy"
   ]
  },
  {
   "cell_type": "code",
   "execution_count": 42,
   "id": "c9322114-abae-459d-a127-a6b2db3e7696",
   "metadata": {
    "tags": []
   },
   "outputs": [
    {
     "data": {
      "text/html": [
       "<div>\n",
       "<style scoped>\n",
       "    .dataframe tbody tr th:only-of-type {\n",
       "        vertical-align: middle;\n",
       "    }\n",
       "\n",
       "    .dataframe tbody tr th {\n",
       "        vertical-align: top;\n",
       "    }\n",
       "\n",
       "    .dataframe thead th {\n",
       "        text-align: right;\n",
       "    }\n",
       "</style>\n",
       "<table border=\"1\" class=\"dataframe\">\n",
       "  <thead>\n",
       "    <tr style=\"text-align: right;\">\n",
       "      <th></th>\n",
       "      <th>ependymoma</th>\n",
       "      <th>glioblastoma</th>\n",
       "      <th>medulloblastoma</th>\n",
       "      <th>normal</th>\n",
       "      <th>pilocytic_astrocytoma</th>\n",
       "    </tr>\n",
       "  </thead>\n",
       "  <tbody>\n",
       "    <tr>\n",
       "      <th>ependymoma</th>\n",
       "      <td>2</td>\n",
       "      <td>2</td>\n",
       "      <td>0</td>\n",
       "      <td>0</td>\n",
       "      <td>7</td>\n",
       "    </tr>\n",
       "    <tr>\n",
       "      <th>glioblastoma</th>\n",
       "      <td>1</td>\n",
       "      <td>2</td>\n",
       "      <td>0</td>\n",
       "      <td>0</td>\n",
       "      <td>1</td>\n",
       "    </tr>\n",
       "    <tr>\n",
       "      <th>medulloblastoma</th>\n",
       "      <td>0</td>\n",
       "      <td>1</td>\n",
       "      <td>6</td>\n",
       "      <td>0</td>\n",
       "      <td>0</td>\n",
       "    </tr>\n",
       "    <tr>\n",
       "      <th>normal</th>\n",
       "      <td>0</td>\n",
       "      <td>0</td>\n",
       "      <td>0</td>\n",
       "      <td>1</td>\n",
       "      <td>0</td>\n",
       "    </tr>\n",
       "    <tr>\n",
       "      <th>pilocytic_astrocytoma</th>\n",
       "      <td>2</td>\n",
       "      <td>0</td>\n",
       "      <td>0</td>\n",
       "      <td>0</td>\n",
       "      <td>1</td>\n",
       "    </tr>\n",
       "  </tbody>\n",
       "</table>\n",
       "</div>"
      ],
      "text/plain": [
       "                       ependymoma  glioblastoma  medulloblastoma  normal  \\\n",
       "ependymoma                      2             2                0       0   \n",
       "glioblastoma                    1             2                0       0   \n",
       "medulloblastoma                 0             1                6       0   \n",
       "normal                          0             0                0       1   \n",
       "pilocytic_astrocytoma           2             0                0       0   \n",
       "\n",
       "                       pilocytic_astrocytoma  \n",
       "ependymoma                                 7  \n",
       "glioblastoma                               1  \n",
       "medulloblastoma                            0  \n",
       "normal                                     0  \n",
       "pilocytic_astrocytoma                      1  "
      ]
     },
     "execution_count": 42,
     "metadata": {},
     "output_type": "execute_result"
    }
   ],
   "source": [
    "cm = confusion_matrix(y_test, predictions)\n",
    "pd.DataFrame(cm, columns = [\"ependymoma\", \"glioblastoma\",\"medulloblastoma\",\"normal\",\"pilocytic_astrocytoma\"], index = [\"ependymoma\", \"glioblastoma\",\"medulloblastoma\",\"normal\",\"pilocytic_astrocytoma\"])"
   ]
  },
  {
   "cell_type": "code",
   "execution_count": 43,
   "id": "36d99878-ac08-40c3-8c51-ce56f7e28ee8",
   "metadata": {
    "tags": []
   },
   "outputs": [
    {
     "name": "stdout",
     "output_type": "stream",
     "text": [
      "                       precision    recall  f1-score   support\n",
      "\n",
      "           ependymoma       0.40      0.18      0.25        11\n",
      "         glioblastoma       0.40      0.50      0.44         4\n",
      "      medulloblastoma       1.00      0.86      0.92         7\n",
      "               normal       1.00      1.00      1.00         1\n",
      "pilocytic_astrocytoma       0.11      0.33      0.17         3\n",
      "\n",
      "             accuracy                           0.46        26\n",
      "            macro avg       0.58      0.57      0.56        26\n",
      "         weighted avg       0.55      0.46      0.48        26\n",
      "\n"
     ]
    }
   ],
   "source": [
    "print(classification_report(y_test,predictions))"
   ]
  },
  {
   "cell_type": "code",
   "execution_count": 44,
   "id": "9921aeb8-c3ae-4ebd-8844-cb7941b52172",
   "metadata": {
    "tags": []
   },
   "outputs": [],
   "source": [
    "from imblearn.over_sampling import SMOTE"
   ]
  },
  {
   "cell_type": "code",
   "execution_count": 45,
   "id": "d4bebe40-576b-49a2-bdb8-cb98ab54020e",
   "metadata": {
    "tags": []
   },
   "outputs": [
    {
     "name": "stdout",
     "output_type": "stream",
     "text": [
      "Before SMOTE: \n",
      " ependymoma               35\n",
      "glioblastoma             30\n",
      "medulloblastoma          15\n",
      "normal                   12\n",
      "pilocytic_astrocytoma    12\n",
      "Name: type, dtype: int64\n"
     ]
    }
   ],
   "source": [
    "print(\"Before SMOTE: \\n\", y_train.value_counts())"
   ]
  },
  {
   "cell_type": "code",
   "execution_count": 46,
   "id": "85e6baba-fa32-4ba4-9f28-d09cb5327eeb",
   "metadata": {
    "tags": []
   },
   "outputs": [],
   "source": [
    "smote = SMOTE()\n",
    "X_train_smote, y_train_smote  = smote.fit_resample(X_train, y_train)"
   ]
  },
  {
   "cell_type": "code",
   "execution_count": 47,
   "id": "420ee008-f6ba-4f71-8330-5213ad6ffae5",
   "metadata": {
    "tags": []
   },
   "outputs": [
    {
     "name": "stdout",
     "output_type": "stream",
     "text": [
      "After SMOTE: \n",
      " glioblastoma             35\n",
      "ependymoma               35\n",
      "normal                   35\n",
      "medulloblastoma          35\n",
      "pilocytic_astrocytoma    35\n",
      "Name: type, dtype: int64\n"
     ]
    }
   ],
   "source": [
    "print(\"After SMOTE: \\n\", y_train_smote.value_counts())"
   ]
  },
  {
   "cell_type": "code",
   "execution_count": 48,
   "id": "31823f11-19db-41d3-baff-67d1ed695d4b",
   "metadata": {
    "tags": []
   },
   "outputs": [
    {
     "data": {
      "text/plain": [
       "0.5769230769230769"
      ]
     },
     "execution_count": 48,
     "metadata": {},
     "output_type": "execute_result"
    }
   ],
   "source": [
    "knn =  KNeighborsClassifier(n_neighbors = 5, metric = \"euclidean\")\n",
    "knn.fit(X_train_smote[[\"1007_s_at_normalized\",\"1053_at_normalized\"]], y_train_smote)\n",
    "predictions = knn.predict(X_test[[\"1007_s_at_normalized\",\"1053_at_normalized\"]])\n",
    "test_accuracy = accuracy_score(y_test, predictions)\n",
    "test_accuracy"
   ]
  },
  {
   "cell_type": "code",
   "execution_count": 49,
   "id": "dda06412-d37b-42d4-b822-c978c7898639",
   "metadata": {
    "tags": []
   },
   "outputs": [
    {
     "data": {
      "text/html": [
       "<div>\n",
       "<style scoped>\n",
       "    .dataframe tbody tr th:only-of-type {\n",
       "        vertical-align: middle;\n",
       "    }\n",
       "\n",
       "    .dataframe tbody tr th {\n",
       "        vertical-align: top;\n",
       "    }\n",
       "\n",
       "    .dataframe thead th {\n",
       "        text-align: right;\n",
       "    }\n",
       "</style>\n",
       "<table border=\"1\" class=\"dataframe\">\n",
       "  <thead>\n",
       "    <tr style=\"text-align: right;\">\n",
       "      <th></th>\n",
       "      <th>ependymoma</th>\n",
       "      <th>glioblastoma</th>\n",
       "      <th>medulloblastoma</th>\n",
       "      <th>normal</th>\n",
       "      <th>pilocytic_astrocytoma</th>\n",
       "    </tr>\n",
       "  </thead>\n",
       "  <tbody>\n",
       "    <tr>\n",
       "      <th>ependymoma</th>\n",
       "      <td>4</td>\n",
       "      <td>2</td>\n",
       "      <td>0</td>\n",
       "      <td>0</td>\n",
       "      <td>5</td>\n",
       "    </tr>\n",
       "    <tr>\n",
       "      <th>glioblastoma</th>\n",
       "      <td>0</td>\n",
       "      <td>2</td>\n",
       "      <td>0</td>\n",
       "      <td>0</td>\n",
       "      <td>2</td>\n",
       "    </tr>\n",
       "    <tr>\n",
       "      <th>medulloblastoma</th>\n",
       "      <td>0</td>\n",
       "      <td>1</td>\n",
       "      <td>6</td>\n",
       "      <td>0</td>\n",
       "      <td>0</td>\n",
       "    </tr>\n",
       "    <tr>\n",
       "      <th>normal</th>\n",
       "      <td>0</td>\n",
       "      <td>0</td>\n",
       "      <td>0</td>\n",
       "      <td>1</td>\n",
       "      <td>0</td>\n",
       "    </tr>\n",
       "    <tr>\n",
       "      <th>pilocytic_astrocytoma</th>\n",
       "      <td>1</td>\n",
       "      <td>0</td>\n",
       "      <td>0</td>\n",
       "      <td>0</td>\n",
       "      <td>2</td>\n",
       "    </tr>\n",
       "  </tbody>\n",
       "</table>\n",
       "</div>"
      ],
      "text/plain": [
       "                       ependymoma  glioblastoma  medulloblastoma  normal  \\\n",
       "ependymoma                      4             2                0       0   \n",
       "glioblastoma                    0             2                0       0   \n",
       "medulloblastoma                 0             1                6       0   \n",
       "normal                          0             0                0       1   \n",
       "pilocytic_astrocytoma           1             0                0       0   \n",
       "\n",
       "                       pilocytic_astrocytoma  \n",
       "ependymoma                                 5  \n",
       "glioblastoma                               2  \n",
       "medulloblastoma                            0  \n",
       "normal                                     0  \n",
       "pilocytic_astrocytoma                      2  "
      ]
     },
     "execution_count": 49,
     "metadata": {},
     "output_type": "execute_result"
    }
   ],
   "source": [
    "cm = confusion_matrix(y_test, predictions)\n",
    "pd.DataFrame(cm, columns = [\"ependymoma\", \"glioblastoma\",\"medulloblastoma\",\"normal\",\"pilocytic_astrocytoma\"], index = [\"ependymoma\", \"glioblastoma\",\"medulloblastoma\",\"normal\",\"pilocytic_astrocytoma\"])"
   ]
  },
  {
   "cell_type": "code",
   "execution_count": 50,
   "id": "c11a9837-d9b8-4717-8856-42e49000d7ed",
   "metadata": {
    "tags": []
   },
   "outputs": [
    {
     "name": "stdout",
     "output_type": "stream",
     "text": [
      "                       precision    recall  f1-score   support\n",
      "\n",
      "           ependymoma       0.80      0.36      0.50        11\n",
      "         glioblastoma       0.40      0.50      0.44         4\n",
      "      medulloblastoma       1.00      0.86      0.92         7\n",
      "               normal       1.00      1.00      1.00         1\n",
      "pilocytic_astrocytoma       0.22      0.67      0.33         3\n",
      "\n",
      "             accuracy                           0.58        26\n",
      "            macro avg       0.68      0.68      0.64        26\n",
      "         weighted avg       0.73      0.58      0.61        26\n",
      "\n"
     ]
    }
   ],
   "source": [
    "print(classification_report(y_test,predictions))"
   ]
  },
  {
   "cell_type": "code",
   "execution_count": 51,
   "id": "a1f44daf-fd1e-48bd-9ce1-0af2c113df4a",
   "metadata": {
    "tags": []
   },
   "outputs": [],
   "source": [
    "from sklearn.linear_model import LogisticRegression"
   ]
  },
  {
   "cell_type": "code",
   "execution_count": 53,
   "id": "03025efe-efe8-4f7f-876c-6f0d79eb501e",
   "metadata": {
    "tags": []
   },
   "outputs": [
    {
     "data": {
      "text/plain": [
       "0.6153846153846154"
      ]
     },
     "execution_count": 53,
     "metadata": {},
     "output_type": "execute_result"
    }
   ],
   "source": [
    "log_clf = LogisticRegression()\n",
    "log_clf.fit(X_train[[\"1007_s_at_normalized\",\"1053_at_normalized\"]], y_train)\n",
    "predictions = log_clf.predict(X_test[[\"1007_s_at_normalized\",\"1053_at_normalized\"]])\n",
    "test_accuracy = accuracy_score(y_test, predictions)\n",
    "test_accuracy"
   ]
  },
  {
   "cell_type": "code",
   "execution_count": 54,
   "id": "eb181c1f-973f-40d5-bc11-8ac7cb85eeec",
   "metadata": {
    "tags": []
   },
   "outputs": [
    {
     "data": {
      "text/html": [
       "<div>\n",
       "<style scoped>\n",
       "    .dataframe tbody tr th:only-of-type {\n",
       "        vertical-align: middle;\n",
       "    }\n",
       "\n",
       "    .dataframe tbody tr th {\n",
       "        vertical-align: top;\n",
       "    }\n",
       "\n",
       "    .dataframe thead th {\n",
       "        text-align: right;\n",
       "    }\n",
       "</style>\n",
       "<table border=\"1\" class=\"dataframe\">\n",
       "  <thead>\n",
       "    <tr style=\"text-align: right;\">\n",
       "      <th></th>\n",
       "      <th>ependymoma</th>\n",
       "      <th>glioblastoma</th>\n",
       "      <th>medulloblastoma</th>\n",
       "      <th>normal</th>\n",
       "      <th>pilocytic_astrocytoma</th>\n",
       "    </tr>\n",
       "  </thead>\n",
       "  <tbody>\n",
       "    <tr>\n",
       "      <th>ependymoma</th>\n",
       "      <td>10</td>\n",
       "      <td>1</td>\n",
       "      <td>0</td>\n",
       "      <td>0</td>\n",
       "      <td>0</td>\n",
       "    </tr>\n",
       "    <tr>\n",
       "      <th>glioblastoma</th>\n",
       "      <td>2</td>\n",
       "      <td>2</td>\n",
       "      <td>0</td>\n",
       "      <td>0</td>\n",
       "      <td>0</td>\n",
       "    </tr>\n",
       "    <tr>\n",
       "      <th>medulloblastoma</th>\n",
       "      <td>1</td>\n",
       "      <td>3</td>\n",
       "      <td>3</td>\n",
       "      <td>0</td>\n",
       "      <td>0</td>\n",
       "    </tr>\n",
       "    <tr>\n",
       "      <th>normal</th>\n",
       "      <td>0</td>\n",
       "      <td>0</td>\n",
       "      <td>0</td>\n",
       "      <td>1</td>\n",
       "      <td>0</td>\n",
       "    </tr>\n",
       "    <tr>\n",
       "      <th>pilocytic_astrocytoma</th>\n",
       "      <td>3</td>\n",
       "      <td>0</td>\n",
       "      <td>0</td>\n",
       "      <td>0</td>\n",
       "      <td>0</td>\n",
       "    </tr>\n",
       "  </tbody>\n",
       "</table>\n",
       "</div>"
      ],
      "text/plain": [
       "                       ependymoma  glioblastoma  medulloblastoma  normal  \\\n",
       "ependymoma                     10             1                0       0   \n",
       "glioblastoma                    2             2                0       0   \n",
       "medulloblastoma                 1             3                3       0   \n",
       "normal                          0             0                0       1   \n",
       "pilocytic_astrocytoma           3             0                0       0   \n",
       "\n",
       "                       pilocytic_astrocytoma  \n",
       "ependymoma                                 0  \n",
       "glioblastoma                               0  \n",
       "medulloblastoma                            0  \n",
       "normal                                     0  \n",
       "pilocytic_astrocytoma                      0  "
      ]
     },
     "execution_count": 54,
     "metadata": {},
     "output_type": "execute_result"
    }
   ],
   "source": [
    "cm = confusion_matrix(y_test, predictions)\n",
    "pd.DataFrame(cm, columns = [\"ependymoma\", \"glioblastoma\",\"medulloblastoma\",\"normal\",\"pilocytic_astrocytoma\"], index = [\"ependymoma\", \"glioblastoma\",\"medulloblastoma\",\"normal\",\"pilocytic_astrocytoma\"])"
   ]
  },
  {
   "cell_type": "code",
   "execution_count": 55,
   "id": "0005a2fe-e231-415a-9750-e1c962770f57",
   "metadata": {
    "tags": []
   },
   "outputs": [
    {
     "name": "stdout",
     "output_type": "stream",
     "text": [
      "                       precision    recall  f1-score   support\n",
      "\n",
      "           ependymoma       0.62      0.91      0.74        11\n",
      "         glioblastoma       0.33      0.50      0.40         4\n",
      "      medulloblastoma       1.00      0.43      0.60         7\n",
      "               normal       1.00      1.00      1.00         1\n",
      "pilocytic_astrocytoma       0.00      0.00      0.00         3\n",
      "\n",
      "             accuracy                           0.62        26\n",
      "            macro avg       0.59      0.57      0.55        26\n",
      "         weighted avg       0.62      0.62      0.57        26\n",
      "\n"
     ]
    }
   ],
   "source": [
    "print(classification_report(y_test,predictions))"
   ]
  },
  {
   "cell_type": "code",
   "execution_count": 56,
   "id": "7f7863f5-6423-44f1-b501-a83431be03b8",
   "metadata": {
    "tags": []
   },
   "outputs": [
    {
     "data": {
      "text/plain": [
       "0.46153846153846156"
      ]
     },
     "execution_count": 56,
     "metadata": {},
     "output_type": "execute_result"
    }
   ],
   "source": [
    "log_clf_balanced = LogisticRegression(class_weight = \"balanced\")\n",
    "log_clf_balanced.fit(X_train[[\"1007_s_at_normalized\",\"1053_at_normalized\"]], y_train)\n",
    "predictions = log_clf_balanced.predict(X_test[[\"1007_s_at_normalized\",\"1053_at_normalized\"]])\n",
    "test_accuracy = accuracy_score(y_test, predictions)\n",
    "test_accuracy"
   ]
  },
  {
   "cell_type": "code",
   "execution_count": 57,
   "id": "b58d3c43-c36e-4900-9e94-3cf1489325cd",
   "metadata": {
    "tags": []
   },
   "outputs": [
    {
     "data": {
      "text/html": [
       "<div>\n",
       "<style scoped>\n",
       "    .dataframe tbody tr th:only-of-type {\n",
       "        vertical-align: middle;\n",
       "    }\n",
       "\n",
       "    .dataframe tbody tr th {\n",
       "        vertical-align: top;\n",
       "    }\n",
       "\n",
       "    .dataframe thead th {\n",
       "        text-align: right;\n",
       "    }\n",
       "</style>\n",
       "<table border=\"1\" class=\"dataframe\">\n",
       "  <thead>\n",
       "    <tr style=\"text-align: right;\">\n",
       "      <th></th>\n",
       "      <th>ependymoma</th>\n",
       "      <th>glioblastoma</th>\n",
       "      <th>medulloblastoma</th>\n",
       "      <th>normal</th>\n",
       "      <th>pilocytic_astrocytoma</th>\n",
       "    </tr>\n",
       "  </thead>\n",
       "  <tbody>\n",
       "    <tr>\n",
       "      <th>ependymoma</th>\n",
       "      <td>1</td>\n",
       "      <td>2</td>\n",
       "      <td>0</td>\n",
       "      <td>0</td>\n",
       "      <td>8</td>\n",
       "    </tr>\n",
       "    <tr>\n",
       "      <th>glioblastoma</th>\n",
       "      <td>0</td>\n",
       "      <td>2</td>\n",
       "      <td>0</td>\n",
       "      <td>0</td>\n",
       "      <td>2</td>\n",
       "    </tr>\n",
       "    <tr>\n",
       "      <th>medulloblastoma</th>\n",
       "      <td>0</td>\n",
       "      <td>0</td>\n",
       "      <td>5</td>\n",
       "      <td>2</td>\n",
       "      <td>0</td>\n",
       "    </tr>\n",
       "    <tr>\n",
       "      <th>normal</th>\n",
       "      <td>0</td>\n",
       "      <td>0</td>\n",
       "      <td>0</td>\n",
       "      <td>1</td>\n",
       "      <td>0</td>\n",
       "    </tr>\n",
       "    <tr>\n",
       "      <th>pilocytic_astrocytoma</th>\n",
       "      <td>0</td>\n",
       "      <td>0</td>\n",
       "      <td>0</td>\n",
       "      <td>0</td>\n",
       "      <td>3</td>\n",
       "    </tr>\n",
       "  </tbody>\n",
       "</table>\n",
       "</div>"
      ],
      "text/plain": [
       "                       ependymoma  glioblastoma  medulloblastoma  normal  \\\n",
       "ependymoma                      1             2                0       0   \n",
       "glioblastoma                    0             2                0       0   \n",
       "medulloblastoma                 0             0                5       2   \n",
       "normal                          0             0                0       1   \n",
       "pilocytic_astrocytoma           0             0                0       0   \n",
       "\n",
       "                       pilocytic_astrocytoma  \n",
       "ependymoma                                 8  \n",
       "glioblastoma                               2  \n",
       "medulloblastoma                            0  \n",
       "normal                                     0  \n",
       "pilocytic_astrocytoma                      3  "
      ]
     },
     "execution_count": 57,
     "metadata": {},
     "output_type": "execute_result"
    }
   ],
   "source": [
    "cm = confusion_matrix(y_test, predictions)\n",
    "pd.DataFrame(cm, columns = [\"ependymoma\", \"glioblastoma\",\"medulloblastoma\",\"normal\",\"pilocytic_astrocytoma\"], index = [\"ependymoma\", \"glioblastoma\",\"medulloblastoma\",\"normal\",\"pilocytic_astrocytoma\"])"
   ]
  },
  {
   "cell_type": "code",
   "execution_count": 58,
   "id": "b8f5c6e4-77b9-4543-b762-bc60d86da46b",
   "metadata": {
    "tags": []
   },
   "outputs": [
    {
     "name": "stdout",
     "output_type": "stream",
     "text": [
      "                       precision    recall  f1-score   support\n",
      "\n",
      "           ependymoma       1.00      0.09      0.17        11\n",
      "         glioblastoma       0.50      0.50      0.50         4\n",
      "      medulloblastoma       1.00      0.71      0.83         7\n",
      "               normal       0.33      1.00      0.50         1\n",
      "pilocytic_astrocytoma       0.23      1.00      0.38         3\n",
      "\n",
      "             accuracy                           0.46        26\n",
      "            macro avg       0.61      0.66      0.47        26\n",
      "         weighted avg       0.81      0.46      0.43        26\n",
      "\n"
     ]
    }
   ],
   "source": [
    "print(classification_report(y_test,predictions))"
   ]
  },
  {
   "cell_type": "code",
   "execution_count": null,
   "id": "49e8ccf8-fa82-422c-a823-b02d352b46ed",
   "metadata": {},
   "outputs": [],
   "source": []
  }
 ],
 "metadata": {
  "kernelspec": {
   "display_name": "Python 3 (ipykernel)",
   "language": "python",
   "name": "python3"
  },
  "language_info": {
   "codemirror_mode": {
    "name": "ipython",
    "version": 3
   },
   "file_extension": ".py",
   "mimetype": "text/x-python",
   "name": "python",
   "nbconvert_exporter": "python",
   "pygments_lexer": "ipython3",
   "version": "3.10.7"
  }
 },
 "nbformat": 4,
 "nbformat_minor": 5
}
